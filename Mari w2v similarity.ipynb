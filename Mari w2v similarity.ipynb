{
 "cells": [
  {
   "cell_type": "code",
   "execution_count": 1,
   "metadata": {},
   "outputs": [
    {
     "name": "stdout",
     "output_type": "stream",
     "text": [
      "Most similar words for 'funny':\n",
      "[('hilarious', 0.7538355588912964), ('amusing', 0.6621558666229248), ('jokes', 0.6488590836524963), ('funnier', 0.6320018172264099), ('slapstick', 0.6238095164299011), ('comedy', 0.6084940433502197), ('laughs', 0.6060641407966614), ('unfunny', 0.5975396037101746), ('laughed', 0.5936519503593445), ('unintentionally', 0.5916346311569214)]\n"
     ]
    }
   ],
   "source": [
    "from gensim.models import KeyedVectors\n",
    "model=KeyedVectors.load_word2vec_format(\"word2vec/vec.txt\", binary=False, limit=50000)\n",
    "\n",
    "print(\"Most similar words for 'funny':\")\n",
    "print(model.most_similar(\"funny\",topn=10))"
   ]
  },
  {
   "cell_type": "code",
   "execution_count": 2,
   "metadata": {},
   "outputs": [
    {
     "name": "stdout",
     "output_type": "stream",
     "text": [
      "Similarity of 'bad' and 'horrible':\n",
      "0.6583793232535571\n",
      "Similarity of 'bad' and 'excellent':\n",
      "0.13932578618441507\n"
     ]
    }
   ],
   "source": [
    "print(\"Similarity of 'bad' and 'horrible':\")\n",
    "print(model.similarity(\"bad\", \"horrible\"))\n",
    "\n",
    "print(\"Similarity of 'bad' and 'excellent':\")\n",
    "print(model.similarity(\"bad\", \"excellent\"))"
   ]
  },
  {
   "cell_type": "code",
   "execution_count": 3,
   "metadata": {},
   "outputs": [
    {
     "name": "stdout",
     "output_type": "stream",
     "text": [
      "Similarity of 'actor' and 'actress':\n",
      "0.5665828506599031\n",
      "Most similar words for 'boring':\n",
      "[('dull', 0.7740954160690308), ('tedious', 0.7695024013519287), ('pointless', 0.7599049210548401), ('unoriginal', 0.6745432019233704), ('uninteresting', 0.6684272289276123), ('dreadfully', 0.6673007607460022), ('predictable', 0.6559804081916809), ('uneventful', 0.6484284400939941), ('unrealistic', 0.6398012638092041), ('tiresome', 0.6389200091362), ('incoherent', 0.63234543800354), ('excruciatingly', 0.6255142688751221), ('confusing', 0.6204957365989685), ('clichéd', 0.6137670874595642), ('bored', 0.6130194664001465)]\n"
     ]
    }
   ],
   "source": [
    "print(\"Similarity of 'actor' and 'actress':\")\n",
    "print(model.similarity(\"actor\", \"actress\"))\n",
    "\n",
    "print(\"Most similar words for 'boring':\")\n",
    "print(model.most_similar(\"boring\",topn=15))"
   ]
  },
  {
   "cell_type": "code",
   "execution_count": 4,
   "metadata": {},
   "outputs": [
    {
     "ename": "FileNotFoundError",
     "evalue": "[Errno 2] No such file or directory: 'vectors_out.npy'",
     "output_type": "error",
     "traceback": [
      "\u001b[0;31m---------------------------------------------------------------------------\u001b[0m",
      "\u001b[0;31mFileNotFoundError\u001b[0m                         Traceback (most recent call last)",
      "\u001b[0;32m<ipython-input-4-56f8a26a484d>\u001b[0m in \u001b[0;36m<module>\u001b[0;34m()\u001b[0m\n\u001b[1;32m      9\u001b[0m \u001b[0mos\u001b[0m\u001b[0;34m.\u001b[0m\u001b[0msystem\u001b[0m\u001b[0;34m(\u001b[0m\u001b[0;34m\"python3 bhtsne_wrapper.py --input vectors_in.npy --output vectors_out.npy\"\u001b[0m\u001b[0;34m)\u001b[0m\u001b[0;34m\u001b[0m\u001b[0m\n\u001b[1;32m     10\u001b[0m \u001b[0;34m\u001b[0m\u001b[0m\n\u001b[0;32m---> 11\u001b[0;31m \u001b[0mm2d\u001b[0m\u001b[0;34m=\u001b[0m\u001b[0mnumpy\u001b[0m\u001b[0;34m.\u001b[0m\u001b[0mload\u001b[0m\u001b[0;34m(\u001b[0m\u001b[0;34m\"vectors_out.npy\"\u001b[0m\u001b[0;34m)\u001b[0m \u001b[0;31m# read new vectors from a file\u001b[0m\u001b[0;34m\u001b[0m\u001b[0m\n\u001b[0m\u001b[1;32m     12\u001b[0m \u001b[0;34m\u001b[0m\u001b[0m\n\u001b[1;32m     13\u001b[0m \u001b[0;31m# plot\u001b[0m\u001b[0;34m\u001b[0m\u001b[0;34m\u001b[0m\u001b[0m\n",
      "\u001b[0;32m/usr/lib64/python3.6/site-packages/numpy/lib/npyio.py\u001b[0m in \u001b[0;36mload\u001b[0;34m(file, mmap_mode, allow_pickle, fix_imports, encoding)\u001b[0m\n\u001b[1;32m    370\u001b[0m     \u001b[0mown_fid\u001b[0m \u001b[0;34m=\u001b[0m \u001b[0;32mFalse\u001b[0m\u001b[0;34m\u001b[0m\u001b[0m\n\u001b[1;32m    371\u001b[0m     \u001b[0;32mif\u001b[0m \u001b[0misinstance\u001b[0m\u001b[0;34m(\u001b[0m\u001b[0mfile\u001b[0m\u001b[0;34m,\u001b[0m \u001b[0mbasestring\u001b[0m\u001b[0;34m)\u001b[0m\u001b[0;34m:\u001b[0m\u001b[0;34m\u001b[0m\u001b[0m\n\u001b[0;32m--> 372\u001b[0;31m         \u001b[0mfid\u001b[0m \u001b[0;34m=\u001b[0m \u001b[0mopen\u001b[0m\u001b[0;34m(\u001b[0m\u001b[0mfile\u001b[0m\u001b[0;34m,\u001b[0m \u001b[0;34m\"rb\"\u001b[0m\u001b[0;34m)\u001b[0m\u001b[0;34m\u001b[0m\u001b[0m\n\u001b[0m\u001b[1;32m    373\u001b[0m         \u001b[0mown_fid\u001b[0m \u001b[0;34m=\u001b[0m \u001b[0;32mTrue\u001b[0m\u001b[0;34m\u001b[0m\u001b[0m\n\u001b[1;32m    374\u001b[0m     \u001b[0;32melif\u001b[0m \u001b[0mis_pathlib_path\u001b[0m\u001b[0;34m(\u001b[0m\u001b[0mfile\u001b[0m\u001b[0;34m)\u001b[0m\u001b[0;34m:\u001b[0m\u001b[0;34m\u001b[0m\u001b[0m\n",
      "\u001b[0;31mFileNotFoundError\u001b[0m: [Errno 2] No such file or directory: 'vectors_out.npy'"
     ]
    }
   ],
   "source": [
    "import numpy\n",
    "import os\n",
    "import matplotlib.pyplot as plt\n",
    "import matplotlib.patheffects as path_effects\n",
    "\n",
    "numpy.save(\"vectors_in.npy\",model.vectors[:1000,:]) # save vectors for a file\n",
    "\n",
    "# run tsne locally, input is an embedding matrix, output is an embedding matrix with reduced dimensions\n",
    "os.system(\"python3 bhtsne_wrapper.py --input vectors_in.npy --output vectors_out.npy\")\n",
    "\n",
    "m2d=numpy.load(\"vectors_out.npy\") # read new vectors from a file\n",
    "\n",
    "# plot\n",
    "fig, ax = plt.subplots(figsize=(50, 50), dpi=250)\n",
    "plt.scatter(m2d[:1000,0],m2d[:1000,1],marker=\",\",color=\"gray\")\n",
    "words=[(k,w.index) for k,w in model.vocab.items()][:1000] # read words from the embedding model\n",
    "words=[w for w,i in sorted(words, key=lambda x:x[1])] # sort based on the index to make sure the order is correct\n",
    "print(words[:50])\n",
    "\n",
    "for i,(v,w) in enumerate(zip(m2d,words)):\n",
    "    if i%2!=0:\n",
    "        continue\n",
    "    txt=plt.text(v[0],v[1],w,size=30,ha=\"center\",va=\"center\",color=\"black\")\n",
    "    txt.set_path_effects([path_effects.Stroke(linewidth=1, foreground='black'),\n",
    "                   path_effects.Normal()])\n",
    "\n",
    "plt.show()"
   ]
  }
 ],
 "metadata": {
  "kernelspec": {
   "display_name": "Python 3",
   "language": "python",
   "name": "python3"
  },
  "language_info": {
   "codemirror_mode": {
    "name": "ipython",
    "version": 3
   },
   "file_extension": ".py",
   "mimetype": "text/x-python",
   "name": "python",
   "nbconvert_exporter": "python",
   "pygments_lexer": "ipython3",
   "version": "3.6.4"
  }
 },
 "nbformat": 4,
 "nbformat_minor": 2
}
