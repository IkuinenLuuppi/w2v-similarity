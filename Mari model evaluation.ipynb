{
 "cells": [
  {
   "cell_type": "code",
   "execution_count": null,
   "metadata": {},
   "outputs": [],
   "source": [
    "(https://radimrehurek.com/gensim/models/word2vec.html )"
   ]
  },
  {
   "cell_type": "code",
   "execution_count": 1,
   "metadata": {},
   "outputs": [],
   "source": [
    "from gensim.models import KeyedVectors\n",
    "\n",
    "model_finnish=KeyedVectors.load_word2vec_format(\"/home/bio/pb34_wf_200_v2_skgram.bin\", binary=True, limit=100000)\n",
    "model_english=KeyedVectors.load_word2vec_format(\"/home/bio/gigaword-and-wikipedia.bin\", binary=True, limit=100000)\n",
    " "
   ]
  },
  {
   "cell_type": "code",
   "execution_count": 2,
   "metadata": {},
   "outputs": [
    {
     "data": {
      "text/plain": [
       "[('kuningatar', 0.8023360371589661),\n",
       " ('kuninkaan', 0.7959486246109009),\n",
       " ('keisari', 0.7324798703193665),\n",
       " ('kuninkaaksi', 0.7303138971328735),\n",
       " ('valtaistuimelle', 0.7242172956466675),\n",
       " ('ruhtinas', 0.7163466215133667),\n",
       " ('sotapäällikkö', 0.7149521112442017),\n",
       " ('kuninkaalle', 0.713044285774231),\n",
       " ('hallitsija', 0.7104554176330566),\n",
       " ('herttua', 0.6939765810966492)]"
      ]
     },
     "execution_count": 2,
     "metadata": {},
     "output_type": "execute_result"
    }
   ],
   "source": [
    "model_finnish.most_similar(positive=['nainen', 'kuningas'], negative=['mies'])"
   ]
  },
  {
   "cell_type": "code",
   "execution_count": 3,
   "metadata": {},
   "outputs": [
    {
     "name": "stdout",
     "output_type": "stream",
     "text": [
      "Athens Greece Baghdad Iraq\n",
      "[('Baghdad', 0.6941053867340088), ('Iraqi', 0.5600108504295349), ('Fallujah', 0.5220499038696289), ('Mosul', 0.513088583946228), ('American-led', 0.5128574967384338), ('U.S.-led', 0.5039893984794617), ('Tikrit', 0.49567824602127075), ('Samarra', 0.48058387637138367), ('Iraqis', 0.48009493947029114), ('Basra', 0.47125375270843506)]\n",
      "Athens Greece Bangkok Thailand\n",
      "[('Bangkok', 0.7160026431083679), ('Malaysia', 0.5834745168685913), ('Manila', 0.5522506237030029), ('Philippines', 0.5494058728218079), ('Hanoi', 0.5352476239204407), ('Seoul', 0.5327247381210327), ('Kuala', 0.5275321006774902), ('Thai', 0.5265982151031494), ('Myanmar', 0.5247423648834229), ('Yangon', 0.5198507308959961)]\n",
      "Athens Greece Beijing China\n",
      "[('Beijing', 0.7661800980567932), ('Shanghai', 0.6953837871551514), ('Guangzhou', 0.6443774104118347), ('Nanjing', 0.6360008716583252), ('Tianjin', 0.6231027841567993), ('Qingdao', 0.5841960906982422), ('Guangdong', 0.5841335654258728), ('Ningbo', 0.5827594995498657), ('Harbin', 0.579920768737793), ('Fuzhou', 0.5795766711235046)]\n",
      "Athens Greece Berlin Germany\n",
      "[('Berlin', 0.642699658870697), ('Munich', 0.5922634601593018), ('Wuppertal', 0.5857512950897217), ('Dusseldorf', 0.5805996060371399), ('Stuttgart', 0.5771403908729553), ('Essen', 0.57186359167099), ('Leipzig', 0.5668865442276001), ('Kassel', 0.5642327070236206), ('Hamburg', 0.5627769231796265), ('Duesseldorf', 0.5608307123184204)]\n",
      "Athens Greece Cairo Egypt\n",
      "[('Cairo', 0.7224676609039307), ('Jeddah', 0.5854037404060364), ('Damascus', 0.567133367061615), ('Manama', 0.5504117608070374), ('Beirut', 0.5448699593544006), ('Tripoli', 0.543543815612793), ('Amman', 0.535708487033844), ('Qatar', 0.5346853137016296), ('Bahrain', 0.5230116844177246), ('Egyptian', 0.4953778088092804)]\n",
      "Athens Greece Canberra Australia\n",
      "[('Sydney', 0.7644423842430115), ('Melbourne', 0.6961014866828918), ('Perth', 0.6668810248374939), ('Brisbane', 0.6623986959457397), ('Adelaide', 0.6552223563194275), ('Townsville', 0.5859607458114624), ('Auckland', 0.5759537816047668), ('Canberra', 0.558459997177124), ('Hobart', 0.5498373508453369), ('Queensland', 0.5456221699714661)]\n",
      "Athens Greece Hanoi Vietnam\n",
      "[('Hanoi', 0.5589011311531067), ('Bangkok', 0.5212159156799316), ('Danang', 0.510856568813324), ('Seoul', 0.49438953399658203), ('Saigon', 0.47780364751815796), ('Vietnamese', 0.4564182460308075), ('Nha', 0.4544057548046112), ('Haiphong', 0.4454071819782257), ('Trang', 0.4449552595615387), ('Pusan', 0.42909783124923706)]\n",
      "Athens Greece Havana Cuba\n",
      "[('Havana', 0.603729248046875), ('Panama', 0.5183154940605164), ('Cuban', 0.5086603164672852), ('Camaguey', 0.5014362931251526), ('Cubans', 0.48628902435302734), ('Santo', 0.475190669298172), ('Asuncion', 0.47419601678848267), ('Cartagena', 0.4734547436237335), ('Holguin', 0.4650215208530426), ('Lima', 0.4612674415111542)]\n",
      "Athens Greece Helsinki Finland\n",
      "[('Helsinki', 0.6479014754295349), ('Tampere', 0.6129693388938904), ('Gothenburg', 0.6004810929298401), ('Oulu', 0.571867823600769), ('Lahti', 0.5657322406768799), ('Stockholm', 0.5542184114456177), ('Turku', 0.5523620843887329), ('Ostersund', 0.5422666072845459), ('Lillehammer', 0.5415828824043274), ('Manninen', 0.5391111969947815)]\n",
      "Athens Greece Kabul Afghanistan\n",
      "[('Kabul', 0.6620178818702698), ('Afghan', 0.571812629699707), ('Kandahar', 0.5546654462814331), ('Taliban', 0.5355486869812012), ('Baghdad', 0.5260915160179138), ('Jalalabad', 0.5202063322067261), ('Mazar-i-Sharif', 0.5183039307594299), ('Bunia', 0.498420774936676), ('Mazar-e-Sharif', 0.4962359070777893), ('Fallujah', 0.4934777617454529)]\n",
      "Athens Greece London England\n",
      "[('Sydney', 0.6056249141693115), ('Birmingham', 0.6020732522010803), ('Glasgow', 0.5870463848114014), ('Tamworth', 0.5809175968170166), ('Surrey', 0.5803568959236145), ('Somerset', 0.5643140077590942), ('Melbourne', 0.5640445947647095), ('Edinburgh', 0.5640226006507874), ('Cardiff', 0.5575724244117737), ('Durham', 0.5554609298706055)]\n",
      "Athens Greece Madrid Spain\n",
      "[('Seville', 0.612511932849884), ('Barcelona', 0.5770223140716553), ('Santiago', 0.5634011626243591), ('Juan', 0.5436736345291138), ('Valencia', 0.5423162579536438), ('Borja', 0.5398926734924316), ('Burgos', 0.5317109227180481), ('Caceres', 0.5303534865379333), ('Jaen', 0.5268153548240662), ('Spaniard', 0.5230169296264648)]\n",
      "Athens Greece Moscow Russia\n",
      "[('Moscow', 0.6693787574768066), ('Vladivostok', 0.5475979447364807), ('Alexei', 0.5429257750511169), ('Plushenko', 0.5370299220085144), ('Novikov', 0.5306265354156494), ('Popov', 0.5304784178733826), ('Nikolayev', 0.5210406184196472), ('Sochi', 0.5168666839599609), ('Kiev', 0.5142942070960999), ('Tikhonov', 0.509034276008606)]\n",
      "Athens Greece Ottawa Canada\n",
      "[('Vancouver', 0.5606033802032471), ('Ontario', 0.5557962656021118), ('Sydney', 0.5551515817642212), ('Winnipeg', 0.548709511756897), ('Quebec', 0.5257459282875061), ('Calgary', 0.5202974677085876), ('Montreal', 0.519412636756897), ('Alberta', 0.513668954372406), ('Kamloops', 0.510777473449707), ('Brantford', 0.5100532174110413)]\n",
      "Athens Greece Paris France\n",
      "[('Grenoble', 0.5786840319633484), ('Clermont-Ferrand', 0.5745407938957214), ('Aix-en-Provence', 0.5533568859100342), ('Lausanne', 0.5517274141311646), ('Toulouse', 0.5473392009735107), ('Paris', 0.5449972748756409), ('Chamonix', 0.5444362163543701), ('Besancon', 0.5400642156600952), ('Rouen', 0.5352417230606079), ('Limoges', 0.5334569811820984)]\n",
      "Athens Greece Rome Italy\n",
      "[('Turin', 0.7441096901893616), ('Florence', 0.5769972801208496), ('Rome', 0.5764448642730713), ('Udine', 0.5703245997428894), ('Naples', 0.5700557827949524), ('Genoa', 0.5663833618164062), ('Pescara', 0.5656211972236633), ('Bologna', 0.5654875636100769), ('Torino', 0.5632225871086121), ('Pesaro', 0.5615965723991394)]\n",
      "Athens Greece Stockholm Sweden\n",
      "[('Gothenburg', 0.6355342864990234), ('Stockholm', 0.6155258417129517), ('Copenhagen', 0.5438873767852783), ('Malmo', 0.5360252261161804), ('Linkoping', 0.5353453755378723), ('Helsingborg', 0.5345383882522583), ('Olsson', 0.5318899750709534), ('Aarhus', 0.5298336148262024), ('Goteborg', 0.527023196220398), ('Jorgen', 0.5254492163658142)]\n",
      "Baghdad Iraq Athens Greece\n",
      "[('Thessaloniki', 0.6715302467346191), ('Athens', 0.6526924967765808), ('Skopje', 0.6287135481834412), ('Salonica', 0.6113449931144714), ('Patras', 0.6091316342353821), ('Tirana', 0.6085929274559021), ('Salonika', 0.5994202494621277), ('Ankara', 0.5977969169616699), ('Limassol', 0.5902388095855713), ('Izmir', 0.5841504335403442)]\n",
      "Baghdad Iraq Bangkok Thailand\n",
      "[('Bangkok', 0.6566942930221558), ('Malaysia', 0.6267901062965393), ('Yangon', 0.6047846078872681), ('Myanmar', 0.5991098284721375), ('Philippines', 0.5950822234153748), ('Dhaka', 0.5899476408958435), ('Vientiane', 0.5768561959266663), ('Indonesia', 0.5565150380134583), ('Singapore', 0.5406355857849121), ('Jakarta', 0.5383083820343018)]\n",
      "Baghdad Iraq Beijing China\n",
      "[('Beijing', 0.732999861240387), ('Guangdong', 0.6811203956604004), ('Fuzhou', 0.6739227175712585), ('Zhejiang', 0.6638481020927429), ('Guangzhou', 0.6560853719711304), ('Changsha', 0.6530643105506897), ('Liaoning', 0.6513969302177429), ('Shanghai', 0.6451124548912048), ('Jilin', 0.6447857618331909), ('Fujian', 0.64051753282547)]\n"
     ]
    }
   ],
   "source": [
    "lines=0\n",
    "with open(\"data/analogy_eng.txt\",\"r\") as f:\n",
    "    for line in f:\n",
    "        line=line.strip() #uuden rivin merkin poistaminen /n\n",
    "        if \":\" in line:\n",
    "            continue\n",
    "        w1,w2,w3,w4=line.split()\n",
    "        print (w1,w2,w3,w4)\n",
    "        result=model_english.most_similar(positive=[w4, w1], negative=[w2])\n",
    "        print (result)\n",
    "        lines+=1 \n",
    "        if lines==20:\n",
    "            break\n",
    "        \n",
    "            \n",
    "            "
   ]
  },
  {
   "cell_type": "code",
   "execution_count": null,
   "metadata": {},
   "outputs": [],
   "source": []
  }
 ],
 "metadata": {
  "kernelspec": {
   "display_name": "Python 3",
   "language": "python",
   "name": "python3"
  },
  "language_info": {
   "codemirror_mode": {
    "name": "ipython",
    "version": 3
   },
   "file_extension": ".py",
   "mimetype": "text/x-python",
   "name": "python",
   "nbconvert_exporter": "python",
   "pygments_lexer": "ipython3",
   "version": "3.6.4"
  }
 },
 "nbformat": 4,
 "nbformat_minor": 2
}
